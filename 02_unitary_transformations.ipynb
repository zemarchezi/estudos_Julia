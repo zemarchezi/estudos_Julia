{
 "cells": [
  {
   "cell_type": "code",
   "execution_count": 1,
   "metadata": {},
   "outputs": [],
   "source": [
    "using PyPlot, LinearAlgebra\n",
    "\n",
    "theta = Array([pi/15, -pi/9, -pi/20]);\n",
    "Sigma = Diagonal([3, 1, 0.5]);\n",
    "\n",
    "# Rotation about x axis\n",
    "Rx = mapreduce(permutedims, vcat, [[1, 0, 0],\n",
    "               [0, cos(theta[1]), -sin(theta[1])],\n",
    "               [0, sin(theta[1]), cos(theta[1])]]);\n",
    "\n",
    "# Rotation about y axis\n",
    "Ry = mapreduce(permutedims, vcat, [[cos(theta[2]), 0, sin(theta[2])],\n",
    "               [0, 1, 0],\n",
    "               [-sin(theta[2]), 0, cos(theta[2])]]);\n",
    "\n",
    "# Rotation about z axis\n",
    "Rz = mapreduce(permutedims, vcat, [[cos(theta[3]), -sin(theta[3]), 0],\n",
    "               [sin(theta[3]), cos(theta[3]), 0],\n",
    "               [0, 0, 1]]);"
   ]
  },
  {
   "cell_type": "code",
   "execution_count": 2,
   "metadata": {},
   "outputs": [],
   "source": [
    "# Rotate and scale\n",
    "X = Rz * Ry * Rx * Sigma;"
   ]
  },
  {
   "cell_type": "code",
   "execution_count": 3,
   "metadata": {},
   "outputs": [],
   "source": [
    "##\n",
    "n = 100;\n",
    "# u = LinRange(π,π,n);\n",
    "u = range(0,stop=2*π,length=n);\n",
    "# v = LinRange(0, π, n);\n",
    "v = range(0,stop=π,length=n);\n",
    "x = cos.(u) * sin.(v)';\n",
    "y = sin.(u) * sin.(v)';\n",
    "z = ones(n) * cos.(v)';"
   ]
  },
  {
   "cell_type": "code",
   "execution_count": 8,
   "metadata": {},
   "outputs": [],
   "source": [
    "surf(x,y,z, rstride=4, cstride=4);\n",
    "# show()\n",
    "savefig(\"NormalSphere.png\")"
   ]
  },
  {
   "cell_type": "code",
   "execution_count": 10,
   "metadata": {},
   "outputs": [],
   "source": [
    "xR = zeros(size(x));\n",
    "yR = zeros(size(y));\n",
    "zR = zeros(size(z));"
   ]
  },
  {
   "cell_type": "code",
   "execution_count": 13,
   "metadata": {},
   "outputs": [],
   "source": [
    "for i in 1:size(x)[1], j in 1:size(x)[2]\n",
    "    vec = [x[i,j], y[i,j], z[i,j]];\n",
    "    vecR = X * vec;\n",
    "    xR[i,j] = vecR[1];\n",
    "    yR[i,j] = vecR[2];\n",
    "    zR[i,j] = vecR[3];\n",
    "\n",
    "end"
   ]
  },
  {
   "cell_type": "code",
   "execution_count": 14,
   "metadata": {},
   "outputs": [],
   "source": [
    "surf(xR,yR,zR, rstride=4, cstride=4);\n",
    "# show()\n",
    "savefig(\"RotatedSphere.png\")"
   ]
  },
  {
   "cell_type": "code",
   "execution_count": null,
   "metadata": {},
   "outputs": [],
   "source": []
  }
 ],
 "metadata": {
  "kernelspec": {
   "display_name": "Julia 1.7.2",
   "language": "julia",
   "name": "julia-1.7"
  },
  "language_info": {
   "file_extension": ".jl",
   "mimetype": "application/julia",
   "name": "julia",
   "version": "1.7.2"
  },
  "orig_nbformat": 4
 },
 "nbformat": 4,
 "nbformat_minor": 2
}
